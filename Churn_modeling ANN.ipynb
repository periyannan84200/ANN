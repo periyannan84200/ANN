{
 "cells": [
  {
   "cell_type": "code",
   "execution_count": 2,
   "id": "1cbaa287",
   "metadata": {},
   "outputs": [],
   "source": [
    "import numpy as np\n",
    "import pandas as pd\n",
    "import matplotlib.pyplot as plt"
   ]
  },
  {
   "cell_type": "code",
   "execution_count": 3,
   "id": "7f5f4cfd",
   "metadata": {},
   "outputs": [],
   "source": [
    "df=pd.read_csv(\"Churn_Modelling.csv\")"
   ]
  },
  {
   "cell_type": "code",
   "execution_count": 4,
   "id": "8bebbf70",
   "metadata": {},
   "outputs": [
    {
     "data": {
      "text/html": [
       "<div>\n",
       "<style scoped>\n",
       "    .dataframe tbody tr th:only-of-type {\n",
       "        vertical-align: middle;\n",
       "    }\n",
       "\n",
       "    .dataframe tbody tr th {\n",
       "        vertical-align: top;\n",
       "    }\n",
       "\n",
       "    .dataframe thead th {\n",
       "        text-align: right;\n",
       "    }\n",
       "</style>\n",
       "<table border=\"1\" class=\"dataframe\">\n",
       "  <thead>\n",
       "    <tr style=\"text-align: right;\">\n",
       "      <th></th>\n",
       "      <th>RowNumber</th>\n",
       "      <th>CustomerId</th>\n",
       "      <th>Surname</th>\n",
       "      <th>CreditScore</th>\n",
       "      <th>Geography</th>\n",
       "      <th>Gender</th>\n",
       "      <th>Age</th>\n",
       "      <th>Tenure</th>\n",
       "      <th>Balance</th>\n",
       "      <th>NumOfProducts</th>\n",
       "      <th>HasCrCard</th>\n",
       "      <th>IsActiveMember</th>\n",
       "      <th>EstimatedSalary</th>\n",
       "      <th>Exited</th>\n",
       "    </tr>\n",
       "  </thead>\n",
       "  <tbody>\n",
       "    <tr>\n",
       "      <th>0</th>\n",
       "      <td>1</td>\n",
       "      <td>15634602</td>\n",
       "      <td>Hargrave</td>\n",
       "      <td>619</td>\n",
       "      <td>France</td>\n",
       "      <td>Female</td>\n",
       "      <td>42</td>\n",
       "      <td>2</td>\n",
       "      <td>0.00</td>\n",
       "      <td>1</td>\n",
       "      <td>1</td>\n",
       "      <td>1</td>\n",
       "      <td>101348.88</td>\n",
       "      <td>1</td>\n",
       "    </tr>\n",
       "    <tr>\n",
       "      <th>1</th>\n",
       "      <td>2</td>\n",
       "      <td>15647311</td>\n",
       "      <td>Hill</td>\n",
       "      <td>608</td>\n",
       "      <td>Spain</td>\n",
       "      <td>Female</td>\n",
       "      <td>41</td>\n",
       "      <td>1</td>\n",
       "      <td>83807.86</td>\n",
       "      <td>1</td>\n",
       "      <td>0</td>\n",
       "      <td>1</td>\n",
       "      <td>112542.58</td>\n",
       "      <td>0</td>\n",
       "    </tr>\n",
       "    <tr>\n",
       "      <th>2</th>\n",
       "      <td>3</td>\n",
       "      <td>15619304</td>\n",
       "      <td>Onio</td>\n",
       "      <td>502</td>\n",
       "      <td>France</td>\n",
       "      <td>Female</td>\n",
       "      <td>42</td>\n",
       "      <td>8</td>\n",
       "      <td>159660.80</td>\n",
       "      <td>3</td>\n",
       "      <td>1</td>\n",
       "      <td>0</td>\n",
       "      <td>113931.57</td>\n",
       "      <td>1</td>\n",
       "    </tr>\n",
       "    <tr>\n",
       "      <th>3</th>\n",
       "      <td>4</td>\n",
       "      <td>15701354</td>\n",
       "      <td>Boni</td>\n",
       "      <td>699</td>\n",
       "      <td>France</td>\n",
       "      <td>Female</td>\n",
       "      <td>39</td>\n",
       "      <td>1</td>\n",
       "      <td>0.00</td>\n",
       "      <td>2</td>\n",
       "      <td>0</td>\n",
       "      <td>0</td>\n",
       "      <td>93826.63</td>\n",
       "      <td>0</td>\n",
       "    </tr>\n",
       "    <tr>\n",
       "      <th>4</th>\n",
       "      <td>5</td>\n",
       "      <td>15737888</td>\n",
       "      <td>Mitchell</td>\n",
       "      <td>850</td>\n",
       "      <td>Spain</td>\n",
       "      <td>Female</td>\n",
       "      <td>43</td>\n",
       "      <td>2</td>\n",
       "      <td>125510.82</td>\n",
       "      <td>1</td>\n",
       "      <td>1</td>\n",
       "      <td>1</td>\n",
       "      <td>79084.10</td>\n",
       "      <td>0</td>\n",
       "    </tr>\n",
       "  </tbody>\n",
       "</table>\n",
       "</div>"
      ],
      "text/plain": [
       "   RowNumber  CustomerId   Surname  CreditScore Geography  Gender  Age  \\\n",
       "0          1    15634602  Hargrave          619    France  Female   42   \n",
       "1          2    15647311      Hill          608     Spain  Female   41   \n",
       "2          3    15619304      Onio          502    France  Female   42   \n",
       "3          4    15701354      Boni          699    France  Female   39   \n",
       "4          5    15737888  Mitchell          850     Spain  Female   43   \n",
       "\n",
       "   Tenure    Balance  NumOfProducts  HasCrCard  IsActiveMember  \\\n",
       "0       2       0.00              1          1               1   \n",
       "1       1   83807.86              1          0               1   \n",
       "2       8  159660.80              3          1               0   \n",
       "3       1       0.00              2          0               0   \n",
       "4       2  125510.82              1          1               1   \n",
       "\n",
       "   EstimatedSalary  Exited  \n",
       "0        101348.88       1  \n",
       "1        112542.58       0  \n",
       "2        113931.57       1  \n",
       "3         93826.63       0  \n",
       "4         79084.10       0  "
      ]
     },
     "execution_count": 4,
     "metadata": {},
     "output_type": "execute_result"
    }
   ],
   "source": [
    "df.head()"
   ]
  },
  {
   "cell_type": "code",
   "execution_count": 5,
   "id": "685eb76d",
   "metadata": {},
   "outputs": [],
   "source": [
    "x=df.iloc[:,3:13].values\n",
    "y=df.iloc[:,13].values"
   ]
  },
  {
   "cell_type": "code",
   "execution_count": 6,
   "id": "5feb8d68",
   "metadata": {},
   "outputs": [
    {
     "data": {
      "text/plain": [
       "array([[619, 'France', 'Female', ..., 1, 1, 101348.88],\n",
       "       [608, 'Spain', 'Female', ..., 0, 1, 112542.58],\n",
       "       [502, 'France', 'Female', ..., 1, 0, 113931.57],\n",
       "       ...,\n",
       "       [709, 'France', 'Female', ..., 0, 1, 42085.58],\n",
       "       [772, 'Germany', 'Male', ..., 1, 0, 92888.52],\n",
       "       [792, 'France', 'Female', ..., 1, 0, 38190.78]], dtype=object)"
      ]
     },
     "execution_count": 6,
     "metadata": {},
     "output_type": "execute_result"
    }
   ],
   "source": [
    "x\n"
   ]
  },
  {
   "cell_type": "markdown",
   "id": "9196f8a9",
   "metadata": {},
   "source": [
    "#Encoding catecrical data"
   ]
  },
  {
   "cell_type": "code",
   "execution_count": 7,
   "id": "c1a712cf",
   "metadata": {},
   "outputs": [],
   "source": [
    "from sklearn.preprocessing import LabelEncoder,OneHotEncoder\n",
    "LabelEncoder_x_1=LabelEncoder()"
   ]
  },
  {
   "cell_type": "code",
   "execution_count": 8,
   "id": "308050e4",
   "metadata": {},
   "outputs": [],
   "source": [
    "x[:,1]=LabelEncoder_x_1.fit_transform(x[:,1])\n",
    "LabelEncoder_x_2=LabelEncoder()\n",
    "x[:,2]=LabelEncoder_x_2.fit_transform(x[:,2])\n"
   ]
  },
  {
   "cell_type": "code",
   "execution_count": 9,
   "id": "24cdd2b5",
   "metadata": {},
   "outputs": [
    {
     "data": {
      "text/plain": [
       "array([[619, 0, 0, ..., 1, 1, 101348.88],\n",
       "       [608, 2, 0, ..., 0, 1, 112542.58],\n",
       "       [502, 0, 0, ..., 1, 0, 113931.57],\n",
       "       ...,\n",
       "       [709, 0, 0, ..., 0, 1, 42085.58],\n",
       "       [772, 1, 1, ..., 1, 0, 92888.52],\n",
       "       [792, 0, 0, ..., 1, 0, 38190.78]], dtype=object)"
      ]
     },
     "execution_count": 9,
     "metadata": {},
     "output_type": "execute_result"
    }
   ],
   "source": [
    "x"
   ]
  },
  {
   "cell_type": "code",
   "execution_count": 10,
   "id": "aa136728",
   "metadata": {},
   "outputs": [],
   "source": [
    "from sklearn.model_selection import train_test_split\n",
    "x_train,x_test,y_train,y_test=train_test_split(x,y,test_size=0.2,random_state=0)"
   ]
  },
  {
   "cell_type": "code",
   "execution_count": 11,
   "id": "8b73cbfd",
   "metadata": {},
   "outputs": [
    {
     "data": {
      "text/plain": [
       "array([[597, 1, 0, ..., 1, 1, 192852.67],\n",
       "       [523, 0, 0, ..., 1, 0, 128702.1],\n",
       "       [706, 2, 0, ..., 1, 1, 75732.25],\n",
       "       ...,\n",
       "       [578, 2, 1, ..., 1, 0, 141533.19],\n",
       "       [650, 1, 1, ..., 1, 1, 11276.48],\n",
       "       [573, 1, 1, ..., 1, 0, 192950.6]], dtype=object)"
      ]
     },
     "execution_count": 11,
     "metadata": {},
     "output_type": "execute_result"
    }
   ],
   "source": [
    "x_test"
   ]
  },
  {
   "cell_type": "markdown",
   "id": "cc2812e8",
   "metadata": {},
   "source": [
    "#feature scaling"
   ]
  },
  {
   "cell_type": "code",
   "execution_count": 12,
   "id": "f5018d45",
   "metadata": {},
   "outputs": [],
   "source": [
    "from sklearn.preprocessing import StandardScaler\n",
    "sc= StandardScaler()\n",
    "x_train=sc.fit_transform(x_train)\n",
    "x_test=sc.transform(x_test)"
   ]
  },
  {
   "cell_type": "markdown",
   "id": "42f87e3a",
   "metadata": {},
   "source": [
    "#make the ANN"
   ]
  },
  {
   "cell_type": "code",
   "execution_count": 13,
   "id": "f3c44995",
   "metadata": {},
   "outputs": [],
   "source": [
    "import keras\n",
    "from keras.models import Sequential\n",
    "from keras.layers import Dense"
   ]
  },
  {
   "cell_type": "markdown",
   "id": "07fa58f4",
   "metadata": {},
   "source": [
    "#adding input layer and first hidden layer"
   ]
  },
  {
   "cell_type": "code",
   "execution_count": 14,
   "id": "70559d13",
   "metadata": {},
   "outputs": [],
   "source": [
    "classifier=Sequential()\n",
    "classifier.add(Dense(units=6,input_dim=10,activation=\"relu\"))"
   ]
  },
  {
   "cell_type": "markdown",
   "id": "8b1b9be5",
   "metadata": {},
   "source": [
    "#adding 2nd layer"
   ]
  },
  {
   "cell_type": "code",
   "execution_count": 16,
   "id": "af3131c5",
   "metadata": {},
   "outputs": [],
   "source": [
    "classifier.add(Dense(units=6,activation=\"relu\"))"
   ]
  },
  {
   "cell_type": "markdown",
   "id": "767c10ff",
   "metadata": {},
   "source": [
    "#adding third layer"
   ]
  },
  {
   "cell_type": "code",
   "execution_count": 17,
   "id": "f1ee6547",
   "metadata": {},
   "outputs": [],
   "source": [
    "classifier.add(Dense(units=1,activation=\"sigmoid\"))"
   ]
  },
  {
   "cell_type": "markdown",
   "id": "4ab1fe62",
   "metadata": {},
   "source": []
  },
  {
   "cell_type": "code",
   "execution_count": 18,
   "id": "ba2c2c91",
   "metadata": {},
   "outputs": [],
   "source": [
    "classifier.compile(optimizer=\"adam\",loss=\"binary_crossentropy\",metrics=[\"accuracy\"])"
   ]
  },
  {
   "cell_type": "markdown",
   "id": "cb2352f3",
   "metadata": {},
   "source": [
    "#compiling the ANN"
   ]
  },
  {
   "cell_type": "code",
   "execution_count": null,
   "id": "6a7bffb4",
   "metadata": {},
   "outputs": [
    {
     "name": "stdout",
     "output_type": "stream",
     "text": [
      "Epoch 1/100\n",
      "800/800 [==============================] - 5s 3ms/step - loss: 0.5111 - accuracy: 0.7960\n",
      "Epoch 2/100\n",
      "800/800 [==============================] - 2s 2ms/step - loss: 0.4540 - accuracy: 0.7960\n",
      "Epoch 3/100\n",
      "800/800 [==============================] - 2s 2ms/step - loss: 0.4379 - accuracy: 0.7960\n",
      "Epoch 4/100\n",
      "800/800 [==============================] - 2s 2ms/step - loss: 0.4298 - accuracy: 0.7960\n",
      "Epoch 5/100\n",
      "800/800 [==============================] - 2s 2ms/step - loss: 0.4242 - accuracy: 0.7960\n",
      "Epoch 6/100\n",
      "800/800 [==============================] - 2s 2ms/step - loss: 0.4170 - accuracy: 0.8120\n",
      "Epoch 7/100\n",
      "800/800 [==============================] - 2s 2ms/step - loss: 0.4081 - accuracy: 0.8189\n",
      "Epoch 8/100\n",
      "800/800 [==============================] - 2s 2ms/step - loss: 0.3965 - accuracy: 0.8256\n",
      "Epoch 9/100\n",
      "800/800 [==============================] - 2s 2ms/step - loss: 0.3858 - accuracy: 0.8322\n",
      "Epoch 10/100\n",
      "800/800 [==============================] - 2s 2ms/step - loss: 0.3766 - accuracy: 0.8395\n",
      "Epoch 11/100\n",
      "800/800 [==============================] - 2s 2ms/step - loss: 0.3696 - accuracy: 0.8445\n",
      "Epoch 12/100\n",
      "800/800 [==============================] - 2s 2ms/step - loss: 0.3653 - accuracy: 0.8481\n",
      "Epoch 13/100\n",
      "800/800 [==============================] - 2s 2ms/step - loss: 0.3616 - accuracy: 0.8493\n",
      "Epoch 14/100\n",
      "800/800 [==============================] - 2s 2ms/step - loss: 0.3578 - accuracy: 0.8508\n",
      "Epoch 15/100\n",
      "800/800 [==============================] - 2s 2ms/step - loss: 0.3557 - accuracy: 0.8540\n",
      "Epoch 16/100\n",
      "800/800 [==============================] - 2s 2ms/step - loss: 0.3532 - accuracy: 0.8550\n",
      "Epoch 17/100\n",
      "800/800 [==============================] - 2s 2ms/step - loss: 0.3520 - accuracy: 0.8558\n",
      "Epoch 18/100\n",
      "800/800 [==============================] - 2s 2ms/step - loss: 0.3495 - accuracy: 0.8556\n",
      "Epoch 19/100\n",
      "800/800 [==============================] - 2s 2ms/step - loss: 0.3483 - accuracy: 0.8565\n",
      "Epoch 20/100\n",
      "800/800 [==============================] - 2s 2ms/step - loss: 0.3479 - accuracy: 0.8566\n",
      "Epoch 21/100\n",
      "800/800 [==============================] - 2s 2ms/step - loss: 0.3464 - accuracy: 0.8571\n",
      "Epoch 22/100\n",
      "800/800 [==============================] - 2s 2ms/step - loss: 0.3461 - accuracy: 0.8568\n",
      "Epoch 23/100\n",
      "800/800 [==============================] - ETA: 0s - loss: 0.3455 - accuracy: 0.85 - 2s 2ms/step - loss: 0.3456 - accuracy: 0.8594\n",
      "Epoch 24/100\n",
      "800/800 [==============================] - 2s 2ms/step - loss: 0.3451 - accuracy: 0.8570\n",
      "Epoch 25/100\n",
      "800/800 [==============================] - 2s 2ms/step - loss: 0.3447 - accuracy: 0.8569\n",
      "Epoch 26/100\n",
      "800/800 [==============================] - 2s 2ms/step - loss: 0.3446 - accuracy: 0.8583\n",
      "Epoch 27/100\n",
      "800/800 [==============================] - 2s 2ms/step - loss: 0.3439 - accuracy: 0.8590\n",
      "Epoch 28/100\n",
      "800/800 [==============================] - 2s 2ms/step - loss: 0.3441 - accuracy: 0.8576\n",
      "Epoch 29/100\n",
      "800/800 [==============================] - 2s 2ms/step - loss: 0.3435 - accuracy: 0.8606\n",
      "Epoch 30/100\n",
      "800/800 [==============================] - 2s 2ms/step - loss: 0.3430 - accuracy: 0.8597\n",
      "Epoch 31/100\n",
      "800/800 [==============================] - 2s 2ms/step - loss: 0.3431 - accuracy: 0.8584\n",
      "Epoch 32/100\n",
      "800/800 [==============================] - 2s 2ms/step - loss: 0.3427 - accuracy: 0.8593\n",
      "Epoch 33/100\n",
      "800/800 [==============================] - 2s 2ms/step - loss: 0.3423 - accuracy: 0.8580\n",
      "Epoch 34/100\n",
      "800/800 [==============================] - 2s 2ms/step - loss: 0.3423 - accuracy: 0.8602\n",
      "Epoch 35/100\n",
      "800/800 [==============================] - 2s 2ms/step - loss: 0.3420 - accuracy: 0.8591\n",
      "Epoch 36/100\n",
      "800/800 [==============================] - 2s 2ms/step - loss: 0.3423 - accuracy: 0.8601\n",
      "Epoch 37/100\n",
      "800/800 [==============================] - 2s 2ms/step - loss: 0.3419 - accuracy: 0.8590\n",
      "Epoch 38/100\n",
      "800/800 [==============================] - ETA: 0s - loss: 0.3426 - accuracy: 0.85 - 2s 2ms/step - loss: 0.3418 - accuracy: 0.8597\n",
      "Epoch 39/100\n",
      "800/800 [==============================] - 2s 2ms/step - loss: 0.3413 - accuracy: 0.8594\n",
      "Epoch 40/100\n",
      "800/800 [==============================] - 2s 2ms/step - loss: 0.3420 - accuracy: 0.8601\n",
      "Epoch 41/100\n",
      "800/800 [==============================] - 2s 2ms/step - loss: 0.3417 - accuracy: 0.8619\n",
      "Epoch 42/100\n",
      "800/800 [==============================] - 2s 2ms/step - loss: 0.3415 - accuracy: 0.8593\n",
      "Epoch 43/100\n",
      "800/800 [==============================] - 2s 2ms/step - loss: 0.3421 - accuracy: 0.8591\n",
      "Epoch 44/100\n",
      "800/800 [==============================] - 2s 2ms/step - loss: 0.3406 - accuracy: 0.8596: 0s - loss: 0.3419 - ac\n",
      "Epoch 45/100\n",
      "800/800 [==============================] - 2s 2ms/step - loss: 0.3409 - accuracy: 0.8587\n",
      "Epoch 46/100\n",
      "800/800 [==============================] - 2s 2ms/step - loss: 0.3408 - accuracy: 0.8590\n",
      "Epoch 47/100\n",
      "800/800 [==============================] - 2s 2ms/step - loss: 0.3399 - accuracy: 0.8615\n",
      "Epoch 48/100\n",
      "800/800 [==============================] - 2s 2ms/step - loss: 0.3404 - accuracy: 0.8609\n",
      "Epoch 49/100\n",
      "800/800 [==============================] - 2s 3ms/step - loss: 0.3397 - accuracy: 0.8606\n",
      "Epoch 50/100\n",
      "800/800 [==============================] - 2s 3ms/step - loss: 0.3398 - accuracy: 0.8596\n",
      "Epoch 51/100\n",
      "800/800 [==============================] - 2s 3ms/step - loss: 0.3390 - accuracy: 0.8606\n",
      "Epoch 52/100\n",
      "800/800 [==============================] - 2s 2ms/step - loss: 0.3394 - accuracy: 0.8594\n",
      "Epoch 53/100\n",
      "800/800 [==============================] - 2s 3ms/step - loss: 0.3392 - accuracy: 0.8612\n",
      "Epoch 54/100\n",
      "800/800 [==============================] - 2s 2ms/step - loss: 0.3391 - accuracy: 0.8616\n",
      "Epoch 55/100\n",
      "800/800 [==============================] - 2s 2ms/step - loss: 0.3385 - accuracy: 0.8593\n",
      "Epoch 56/100\n",
      "800/800 [==============================] - 2s 2ms/step - loss: 0.3388 - accuracy: 0.8622: 0s - loss: 0.3375 - accuracy: 0.\n",
      "Epoch 57/100\n",
      "800/800 [==============================] - 2s 2ms/step - loss: 0.3387 - accuracy: 0.8608\n",
      "Epoch 58/100\n",
      "800/800 [==============================] - 2s 2ms/step - loss: 0.3391 - accuracy: 0.8605\n",
      "Epoch 59/100\n",
      "800/800 [==============================] - 2s 2ms/step - loss: 0.3384 - accuracy: 0.8608\n",
      "Epoch 60/100\n",
      "800/800 [==============================] - 2s 2ms/step - loss: 0.3386 - accuracy: 0.8614\n",
      "Epoch 61/100\n",
      "800/800 [==============================] - 2s 2ms/step - loss: 0.3381 - accuracy: 0.8635\n",
      "Epoch 62/100\n",
      "800/800 [==============================] - 1s 889us/step - loss: 0.3374 - accuracy: 0.8602\n",
      "Epoch 63/100\n",
      "800/800 [==============================] - 1s 2ms/step - loss: 0.3386 - accuracy: 0.8596\n",
      "Epoch 64/100\n",
      "800/800 [==============================] - 2s 3ms/step - loss: 0.3382 - accuracy: 0.8618\n",
      "Epoch 65/100\n",
      "800/800 [==============================] - ETA: 0s - loss: 0.3375 - accuracy: 0.86 - 2s 3ms/step - loss: 0.3383 - accuracy: 0.8602\n",
      "Epoch 66/100\n",
      "800/800 [==============================] - 2s 3ms/step - loss: 0.3382 - accuracy: 0.8609\n",
      "Epoch 67/100\n",
      "800/800 [==============================] - 2s 3ms/step - loss: 0.3376 - accuracy: 0.8600\n",
      "Epoch 68/100\n",
      "800/800 [==============================] - 2s 3ms/step - loss: 0.3375 - accuracy: 0.8612\n",
      "Epoch 69/100\n",
      "800/800 [==============================] - 2s 3ms/step - loss: 0.3379 - accuracy: 0.8601\n",
      "Epoch 70/100\n",
      "800/800 [==============================] - 2s 3ms/step - loss: 0.3375 - accuracy: 0.8601\n",
      "Epoch 71/100\n",
      "800/800 [==============================] - 2s 3ms/step - loss: 0.3375 - accuracy: 0.8602\n",
      "Epoch 72/100\n",
      "800/800 [==============================] - 2s 3ms/step - loss: 0.3370 - accuracy: 0.8619\n",
      "Epoch 73/100\n",
      "800/800 [==============================] - 2s 3ms/step - loss: 0.3377 - accuracy: 0.8599\n",
      "Epoch 74/100\n",
      "800/800 [==============================] - 2s 3ms/step - loss: 0.3377 - accuracy: 0.8618\n",
      "Epoch 75/100\n",
      "800/800 [==============================] - 2s 3ms/step - loss: 0.3378 - accuracy: 0.8622\n",
      "Epoch 76/100\n",
      "800/800 [==============================] - 2s 3ms/step - loss: 0.3366 - accuracy: 0.8596\n",
      "Epoch 77/100\n",
      "733/800 [==========================>...] - ETA: 0s - loss: 0.3331 - accuracy: 0.8658"
     ]
    }
   ],
   "source": [
    "classifier.fit(x_train,y_train,batch_size=10,epochs=100)"
   ]
  },
  {
   "cell_type": "code",
   "execution_count": null,
   "id": "ac15febc",
   "metadata": {},
   "outputs": [],
   "source": [
    "y_pred=classifier.predict(x_test)\n",
    "y_pred=(y_pred>0.5)"
   ]
  },
  {
   "cell_type": "code",
   "execution_count": null,
   "id": "7badfad6",
   "metadata": {},
   "outputs": [],
   "source": [
    "y_pred"
   ]
  },
  {
   "cell_type": "code",
   "execution_count": null,
   "id": "be468494",
   "metadata": {},
   "outputs": [],
   "source": [
    "from sklearn.metrics import confusion_matrix\n",
    "cm=confusion_matrix(y_test,y_pred)"
   ]
  },
  {
   "cell_type": "code",
   "execution_count": 74,
   "id": "267b017e",
   "metadata": {},
   "outputs": [
    {
     "data": {
      "text/plain": [
       "array([[1520,   75],\n",
       "       [ 206,  199]], dtype=int64)"
      ]
     },
     "execution_count": 74,
     "metadata": {},
     "output_type": "execute_result"
    }
   ],
   "source": [
    "cm"
   ]
  },
  {
   "cell_type": "code",
   "execution_count": null,
   "id": "daacc32b",
   "metadata": {},
   "outputs": [],
   "source": []
  },
  {
   "cell_type": "code",
   "execution_count": null,
   "id": "3df14a23",
   "metadata": {},
   "outputs": [],
   "source": []
  }
 ],
 "metadata": {
  "kernelspec": {
   "display_name": "Python 3 (ipykernel)",
   "language": "python",
   "name": "python3"
  },
  "language_info": {
   "codemirror_mode": {
    "name": "ipython",
    "version": 3
   },
   "file_extension": ".py",
   "mimetype": "text/x-python",
   "name": "python",
   "nbconvert_exporter": "python",
   "pygments_lexer": "ipython3",
   "version": "3.8.8"
  }
 },
 "nbformat": 4,
 "nbformat_minor": 5
}
